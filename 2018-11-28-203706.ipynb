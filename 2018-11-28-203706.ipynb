{
 "cells": [
  {
   "cell_type": "code",
   "execution_count": 1,
   "metadata": {
    "collapsed": false
   },
   "outputs": [
    {
     "name": "stderr",
     "output_type": "stream",
     "text": [
      "\n",
      "Attaching package: ‘dplyr’\n",
      "\n"
     ]
    },
    {
     "name": "stderr",
     "output_type": "stream",
     "text": [
      "The following objects are masked from ‘package:stats’:\n",
      "\n",
      "    filter, lag\n",
      "\n"
     ]
    },
    {
     "name": "stderr",
     "output_type": "stream",
     "text": [
      "The following objects are masked from ‘package:base’:\n",
      "\n",
      "    intersect, setdiff, setequal, union\n",
      "\n"
     ]
    },
    {
     "name": "stderr",
     "output_type": "stream",
     "text": [
      "rgdal: version: 1.3-3, (SVN revision 759)\n",
      " Geospatial Data Abstraction Library extensions to R successfully loaded\n",
      " Loaded GDAL runtime: GDAL 2.2.3, released 2017/11/20\n",
      " Path to GDAL shared files: /usr/share/gdal/2.2\n",
      " GDAL binary built with GEOS: TRUE \n",
      " Loaded PROJ.4 runtime: Rel. 4.9.3, 15 August 2016, [PJ_VERSION: 493]\n",
      " Path to PROJ.4 shared files: (autodetected)\n",
      " Linking to sp version: 1.2-7 \n"
     ]
    }
   ],
   "source": [
    "dependencies <- c('readxl','ggplot2','dplyr','sp','rgdal','tmap','plyr','dplyr','forcats','lubridate','geojsonio','ggfortify','tseries','forecast')\n",
    "lapply(dependencies, library, character.only = TRUE)\n"
   ]
  },
  {
   "cell_type": "code",
   "execution_count": 0,
   "metadata": {
    "collapsed": false
   },
   "outputs": [
   ],
   "source": [
    "ops_recent_raw <- read.csv('op_recent.csv', stringsAsFactors = FALSE)"
   ]
  },
  {
   "cell_type": "code",
   "execution_count": 0,
   "metadata": {
    "collapsed": false
   },
   "outputs": [
   ],
   "source": [
    "wards <- geojson_read(\"ward_locations.geojson\", what = 'sp')"
   ]
  },
  {
   "cell_type": "code",
   "execution_count": 0,
   "metadata": {
    "collapsed": false
   },
   "outputs": [
   ],
   "source": [
    "weather <- read_excel(\"weather.xlsx\", col_types = c(\"date\", \n",
    "                                                    \"blank\", \"blank\", \"blank\", \"blank\", \"blank\", \n",
    "                                                    \"blank\", \"blank\", \"blank\", \"numeric\", \n",
    "                                                    \"blank\", \"blank\", \"blank\", \"blank\", \"blank\", \n",
    "                                                    \"numeric\", \"blank\", \"blank\", \"blank\", \n",
    "                                                    \"blank\", \"blank\", \"blank\", \"blank\", \"blank\", \n",
    "                                                    \"blank\", \"blank\", \"blank\"))"
   ]
  },
  {
   "cell_type": "code",
   "execution_count": 0,
   "metadata": {
    "collapsed": false
   },
   "outputs": [
   ],
   "source": [
    "weather$didRain <- weather$`Total Rain (mm)` != 0.0\n",
    "weather$`Total Rain (mm)` <- NULL\n",
    "weather <- rename(weather, c(\"Mean Temp (°C)\"=\"mean_tmp\", \"Date/Time\" = \"date\"))\n",
    "weather$date <- date(weather$date)\n",
    "head(weather)"
   ]
  },
  {
   "cell_type": "code",
   "execution_count": 0,
   "metadata": {
    "collapsed": false
   },
   "outputs": [
   ],
   "source": [
    "ops_recent <- data.frame(\n",
    "  \"date_time\" = mdy_hms(op_recent_raw$incident_datetime),\n",
    "  \"date\" = date(mdy_hms(op_recent_raw$incident_datetime)),\n",
    "  \"incident_type\" = as.factor(op_recent_raw$incident_type_primary),\n",
    "  \"parent_type\" = as.factor(op_recent_raw$parent_incident_type),\n",
    "  \"day\" = as.factor(op_recent_raw$day_of_week),\n",
    "  \"hour\" = op_recent_raw$hour_of_day,\n",
    "  \"long\" = op_recent_raw$longitude,\n",
    "  \"lat\" = op_recent_raw$latitude)"
   ]
  },
  {
   "cell_type": "code",
   "execution_count": 0,
   "metadata": {
    "collapsed": false
   },
   "outputs": [
   ],
   "source": [
    "ops_recent <- left_join(ops_recent, weather)"
   ]
  },
  {
   "cell_type": "code",
   "execution_count": 0,
   "metadata": {
    "collapsed": false
   },
   "outputs": [
   ],
   "source": [
    "plot(wards)"
   ]
  },
  {
   "cell_type": "code",
   "execution_count": 0,
   "metadata": {
    "collapsed": false
   },
   "outputs": [
   ],
   "source": [
    "ops_recent$ward <-over(\n",
    "  SpatialPointsDataFrame(ops_recent[,c(\"long\",\"lat\")], \n",
    "                         ops_recent, \n",
    "                         proj4string = CRS(\"+proj=longlat +datum=WGS84 +no_defs +ellps=WGS84 +towgs84=0,0,0\"))\n",
    "  , wards)[,\"WARD_EN\"]\n",
    "ops_recent <- ops_recent[complete.cases(ops_recent),]"
   ]
  },
  {
   "cell_type": "code",
   "execution_count": 0,
   "metadata": {
    "collapsed": false
   },
   "outputs": [
   ],
   "source": [
    "wards_2 <- wards\n",
    "wards_2@data <- left_join(wards_2@data, count(ops_recent, 'ward'), by=c(\"WARD_EN\" = \"ward\"))\n",
    "tm_shape(wards_2) + tm_fill(\"freq\", title = \"Number of Incidents\") + tm_borders() + tm_layout(\"Crimes in Ottawa since 2018/04/22\")"
   ]
  },
  {
   "cell_type": "code",
   "execution_count": 0,
   "metadata": {
    "collapsed": false
   },
   "outputs": [
   ],
   "source": [
   ]
  }
 ],
 "metadata": {
  "kernelspec": {
   "display_name": "R (R-Project)",
   "language": "r",
   "name": "ir"
  },
  "language_info": {
   "codemirror_mode": "r",
   "file_extension": ".r",
   "mimetype": "text/x-r-source",
   "name": "R",
   "pygments_lexer": "r",
   "version": "3.4.4"
  }
 },
 "nbformat": 4,
 "nbformat_minor": 0
}